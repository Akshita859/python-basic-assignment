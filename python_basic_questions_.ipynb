{
  "nbformat": 4,
  "nbformat_minor": 0,
  "metadata": {
    "colab": {
      "provenance": []
    },
    "kernelspec": {
      "name": "python3",
      "display_name": "Python 3"
    },
    "language_info": {
      "name": "python"
    }
  },
  "cells": [
    {
      "cell_type": "markdown",
      "source": [
        "# Q1. What is Python, and why is it popular\n",
        "\n",
        "Python is a high-level, interpreted, general-purpose programming language.\n",
        "It is popular because:\n",
        "\n",
        "It has easy-to-read syntax, similar to English.\n",
        "\n",
        "It supports multiple programming paradigms (object-oriented, procedural, functional).\n",
        "\n",
        "It has a large standard library and third-party modules.\n",
        "\n"
      ],
      "metadata": {
        "id": "eEbNCHZ6NtML"
      }
    },
    {
      "cell_type": "markdown",
      "source": [
        "## Q2. What is an interpreter in Python?\n",
        "An interpreter is a program that reads and executes code line-by-line.\n",
        "In Python, the interpreter translates each line into machine code and runs it immediately, which helps in easier debugging and dynamic typing.\n",
        "\n"
      ],
      "metadata": {
        "id": "aA3dxdeDO9tw"
      }
    },
    {
      "cell_type": "markdown",
      "source": [
        "# Q3. What are pre-defined keywords in Python?\n",
        "Pre-defined keywords are reserved words in Python that have special meaning and cannot be used as variable names.\n",
        "Examples: if, else, for, while, def, class, return, import, etc."
      ],
      "metadata": {
        "id": "EpZixPw7PLIx"
      }
    },
    {
      "cell_type": "markdown",
      "source": [
        "# Q4. Can keywords be used as variable names?\n",
        "No, keywords cannot be used as variable names"
      ],
      "metadata": {
        "id": "NaloxceRQT4Y"
      }
    },
    {
      "cell_type": "markdown",
      "source": [
        "# Q5 What is mutability in Python?\n",
        "Mutability means whether an object’s value can be changed after creation.\n",
        "\n",
        "Mutable objects: Can be changed (e.g., list, dict, set).\n",
        "\n",
        "Immutable objects: Cannot be changed (e.g., int, str, tuple)"
      ],
      "metadata": {
        "id": "Nsp2W1UpQhhE"
      }
    },
    {
      "cell_type": "markdown",
      "source": [
        "# Q6 Why are lists mutable, but tuples are immutable?\n",
        "Lists are designed to store dynamic data where modifications (like adding, removing) are common.\n",
        "\n",
        "Tuples are used when data should not change, for example, representing fixed values or keys.\n",
        "\n",
        "Tuples are implemented without methods that modify content, while lists are built to allow changes"
      ],
      "metadata": {
        "id": "O7pPm63iQrJR"
      }
    },
    {
      "cell_type": "markdown",
      "source": [
        "# Q7.= (Assignment Operator)\n",
        "Purpose: Used to assign a value to a variable.\n",
        "# is (Identity Operator)\n",
        "Purpose: Used to check if two variables refer to the same object (same memory location)"
      ],
      "metadata": {
        "id": "eqfDUz0oRvc-"
      }
    },
    {
      "cell_type": "markdown",
      "source": [
        "# 8. What are logical operators in Python?\n",
        "Logical operators are used to combine conditional statements:\n",
        "\n",
        "and: Returns True if both conditions are True.\n",
        "\n",
        "or: Returns True if at least one condition is True.\n",
        "\n",
        "not: Reverses the result.\n"
      ],
      "metadata": {
        "id": "2jCWY8q_TH4Y"
      }
    },
    {
      "cell_type": "markdown",
      "source": [
        "# Q9. What is type casting in Python?\n",
        "Type casting means converting one data type to another."
      ],
      "metadata": {
        "id": "f_WH9JQJUEiL"
      }
    },
    {
      "cell_type": "markdown",
      "source": [
        "# Q10. What is the difference between implicit and explicit type casting?\n",
        "Implicit casting: Python automatically converts the type.\n",
        "\n",
        "Explicit casting: You manually convert the type using functions like int(), float(), str(), etc."
      ],
      "metadata": {
        "id": "Ml960yjCUShh"
      }
    },
    {
      "cell_type": "markdown",
      "source": [
        "# Q11. What is the purpose of conditional statements in Python?\n",
        "Conditional statements help in decision-making by executing code only if a condition is true.\n",
        "\n",
        "if\n",
        "\n",
        "elif\n",
        "\n",
        "else"
      ],
      "metadata": {
        "id": "PkP1gmBcU8Ay"
      }
    },
    {
      "cell_type": "markdown",
      "source": [
        "# Q12. How does the elif statement work?\n",
        "elif stands for \"else if\". It checks another condition if the previous if condition was False.\n",
        "It prevents writing multiple if statements."
      ],
      "metadata": {
        "id": "V-A1j5ejU5bU"
      }
    },
    {
      "cell_type": "markdown",
      "source": [
        "# Q13. What is the difference between for and while loops?\n",
        "for loop: Used when you know how many times to repeat.\n",
        "Example: Iterating through a list.\n",
        "\n",
        "while loop: Used when you don’t know in advance how many times to run, and it depends on a condition"
      ],
      "metadata": {
        "id": "FCdKjKMFVmnL"
      }
    },
    {
      "cell_type": "markdown",
      "source": [
        "# Q14. Describe a scenario where a while loop is more suitable than a for loop.\n",
        "Example: Taking input from a user until they type “exit”."
      ],
      "metadata": {
        "id": "VUM3KK0DVuOM"
      }
    }
  ]
}